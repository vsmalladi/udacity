{
 "cells": [
  {
   "cell_type": "code",
   "execution_count": 8,
   "metadata": {
    "collapsed": false
   },
   "outputs": [
    {
     "name": "stdout",
     "output_type": "stream",
     "text": [
      "(2342.5999999999999, 3239.9000000000001)\n"
     ]
    }
   ],
   "source": [
    "# Quiz 1\n",
    "\n",
    "import numpy as np\n",
    "\n",
    "# Subway ridership for 5 stations on 10 different days\n",
    "ridership = np.array([\n",
    "    [   0,    0,    2,    5,    0],\n",
    "    [1478, 3877, 3674, 2328, 2539],\n",
    "    [1613, 4088, 3991, 6461, 2691],\n",
    "    [1560, 3392, 3826, 4787, 2613],\n",
    "    [1608, 4802, 3932, 4477, 2705],\n",
    "    [1576, 3933, 3909, 4979, 2685],\n",
    "    [  95,  229,  255,  496,  201],\n",
    "    [   2,    0,    1,   27,    0],\n",
    "    [1438, 3785, 3589, 4174, 2215],\n",
    "    [1342, 4043, 4009, 4665, 3033]\n",
    "])\n",
    "\n",
    "def mean_riders_for_max_station(ridership):\n",
    "    '''\n",
    "    Fill in this function to find the station with the maximum riders on the\n",
    "    first day, then return the mean riders per day for that station. Also\n",
    "    return the mean ridership overall for comparsion.\n",
    "    \n",
    "    Hint: NumPy's argmax() function might be useful:\n",
    "    http://docs.scipy.org/doc/numpy/reference/generated/numpy.argmax.html\n",
    "    '''\n",
    "    station = ridership[0,:].argmax()\n",
    "    overall_mean = ridership.mean() # Replace this with your code\n",
    "    mean_for_max = ridership.mean(axis=0)[station] # Replace this with your code\n",
    "    \n",
    "    return (overall_mean, mean_for_max)\n",
    "\n",
    "print mean_riders_for_max_station(ridership)"
   ]
  },
  {
   "cell_type": "code",
   "execution_count": 9,
   "metadata": {
    "collapsed": false
   },
   "outputs": [
    {
     "name": "stdout",
     "output_type": "stream",
     "text": [
      "(3239.9000000000001, 1071.2)\n"
     ]
    }
   ],
   "source": [
    "# Quiz 2\n",
    "\n",
    "def min_and_max_riders_per_day(ridership):\n",
    "    '''\n",
    "    Fill in this function. First, for each subway station, calculate the\n",
    "    mean ridership per day. Then, out of all the subway stations, return the\n",
    "    maximum and minimum of these values. That is, find the maximum\n",
    "    mean-ridership-per-day and the minimum mean-ridership-per-day for any\n",
    "    subway station.\n",
    "    '''\n",
    "    mean_ridership_station = ridership.mean(axis=0)\n",
    "    max_daily_ridership = mean_ridership_station.max()     # Replace this with your code\n",
    "    min_daily_ridership = mean_ridership_station.min()     # Replace this with your code\n",
    "    \n",
    "    return (max_daily_ridership, min_daily_ridership)\n",
    "\n",
    "print min_and_max_riders_per_day(ridership)"
   ]
  },
  {
   "cell_type": "code",
   "execution_count": 24,
   "metadata": {
    "collapsed": false
   },
   "outputs": [
    {
     "name": "stdout",
     "output_type": "stream",
     "text": [
      "(2342.5999999999999, 3239.9000000000001)\n"
     ]
    }
   ],
   "source": [
    "import pandas as pd\n",
    "\n",
    "# Subway ridership for 5 stations on 10 different days\n",
    "ridership_df = pd.DataFrame(\n",
    "    data=[[   0,    0,    2,    5,    0],\n",
    "          [1478, 3877, 3674, 2328, 2539],\n",
    "          [1613, 4088, 3991, 6461, 2691],\n",
    "          [1560, 3392, 3826, 4787, 2613],\n",
    "          [1608, 4802, 3932, 4477, 2705],\n",
    "          [1576, 3933, 3909, 4979, 2685],\n",
    "          [  95,  229,  255,  496,  201],\n",
    "          [   2,    0,    1,   27,    0],\n",
    "          [1438, 3785, 3589, 4174, 2215],\n",
    "          [1342, 4043, 4009, 4665, 3033]],\n",
    "    index=['05-01-11', '05-02-11', '05-03-11', '05-04-11', '05-05-11',\n",
    "           '05-06-11', '05-07-11', '05-08-11', '05-09-11', '05-10-11'],\n",
    "    columns=['R003', 'R004', 'R005', 'R006', 'R007']\n",
    ")\n",
    "\n",
    "# Quiz 3\n",
    "\n",
    "def mean_riders_for_max_station(ridership):\n",
    "    '''\n",
    "    Fill in this function to find the station with the maximum riders on the\n",
    "    first day, then return the mean riders per day for that station. Also\n",
    "    return the mean ridership overall for comparsion.\n",
    "    \n",
    "    This is the same as a previous exercise, but this time the\n",
    "    input is a Pandas DataFrame rather than a 2D NumPy array.\n",
    "    '''\n",
    "    station = ridership.iloc[0].argmax()\n",
    "    overall_mean = ridership.values.mean() # Replace this with your code\n",
    "    mean_for_max = ridership.mean()[station] # Replace this with your code\n",
    "    \n",
    "    return (overall_mean, mean_for_max)\n",
    "\n",
    "print mean_riders_for_max_station(ridership_df)"
   ]
  },
  {
   "cell_type": "code",
   "execution_count": 34,
   "metadata": {
    "collapsed": false
   },
   "outputs": [
    {
     "name": "stdout",
     "output_type": "stream",
     "text": [
      "           ENTRIESn        EXITSn  ENTRIESn_hourly  EXITSn_hourly  \\\n",
      "count  4.264900e+04  4.264900e+04     42649.000000   42649.000000   \n",
      "mean   2.812486e+07  1.986993e+07      1886.589955    1361.487866   \n",
      "std    3.043607e+07  2.028986e+07      2952.385585    2183.845409   \n",
      "min    0.000000e+00  0.000000e+00         0.000000       0.000000   \n",
      "25%    1.039762e+07  7.613712e+06       274.000000     237.000000   \n",
      "50%    1.818389e+07  1.331609e+07       905.000000     664.000000   \n",
      "75%    3.263049e+07  2.393771e+07      2255.000000    1537.000000   \n",
      "max    2.357746e+08  1.493782e+08     32814.000000   34828.000000   \n",
      "\n",
      "               hour      day_week       weekday      latitude     longitude  \\\n",
      "count  42649.000000  42649.000000  42649.000000  42649.000000  42649.000000   \n",
      "mean      10.046754      2.905719      0.714436     40.724647    -73.940364   \n",
      "std        6.938928      2.079231      0.451688      0.071650      0.059713   \n",
      "min        0.000000      0.000000      0.000000     40.576152    -74.073622   \n",
      "25%        4.000000      1.000000      0.000000     40.677107    -73.987342   \n",
      "50%       12.000000      3.000000      1.000000     40.717241    -73.953459   \n",
      "75%       16.000000      5.000000      1.000000     40.759123    -73.907733   \n",
      "max       20.000000      6.000000      1.000000     40.889185    -73.755383   \n",
      "\n",
      "                fog      ...          pressurei          rain         tempi  \\\n",
      "count  42649.000000      ...       42649.000000  42649.000000  42649.000000   \n",
      "mean       0.009824      ...          29.971096      0.224741     63.103780   \n",
      "std        0.098631      ...           0.137942      0.417417      8.455597   \n",
      "min        0.000000      ...          29.550000      0.000000     46.900000   \n",
      "25%        0.000000      ...          29.890000      0.000000     57.000000   \n",
      "50%        0.000000      ...          29.960000      0.000000     61.000000   \n",
      "75%        0.000000      ...          30.060000      0.000000     69.100000   \n",
      "max        1.000000      ...          30.320000      1.000000     86.000000   \n",
      "\n",
      "              wspdi   meanprecipi  meanpressurei     meantempi     meanwspdi  \\\n",
      "count  42649.000000  42649.000000   42649.000000  42649.000000  42649.000000   \n",
      "mean       6.927872      0.004618      29.971096     63.103780      6.927872   \n",
      "std        4.510178      0.016344       0.131158      6.939011      3.179832   \n",
      "min        0.000000      0.000000      29.590000     49.400000      0.000000   \n",
      "25%        4.600000      0.000000      29.913333     58.283333      4.816667   \n",
      "50%        6.900000      0.000000      29.958000     60.950000      6.166667   \n",
      "75%        9.200000      0.000000      30.060000     67.466667      8.850000   \n",
      "max       23.000000      0.157500      30.293333     79.800000     17.083333   \n",
      "\n",
      "        weather_lat   weather_lon  \n",
      "count  42649.000000  42649.000000  \n",
      "mean      40.728555    -73.938693  \n",
      "std        0.065420      0.059582  \n",
      "min       40.600204    -74.014870  \n",
      "25%       40.688591    -73.985130  \n",
      "50%       40.720570    -73.949150  \n",
      "75%       40.755226    -73.912033  \n",
      "max       40.862064    -73.694176  \n",
      "\n",
      "[8 rows x 21 columns]\n",
      "0.0\n",
      "10.4318551197\n",
      "0.0\n",
      "118504.112789\n",
      "0.0\n",
      "0.265419061408\n",
      "0.0\n",
      "1.05706826877e+11\n"
     ]
    }
   ],
   "source": [
    "# Quiz 4\n",
    "\n",
    "filename = 'nyc_subway_weather.csv'\n",
    "subway_df = pd.read_csv(filename)\n",
    "\n",
    "print subway_df.describe()\n",
    "def correlation(x, y):\n",
    "    '''\n",
    "    Fill in this function to compute the correlation between the two\n",
    "    input variables. Each input is either a NumPy array or a Pandas\n",
    "    Series.\n",
    "    \n",
    "    correlation = average of (x in standard units) times (y in standard units)\n",
    "    \n",
    "    Remember to pass the argument \"ddof=0\" to the Pandas std() function!\n",
    "    '''\n",
    "    standard_x = (x - x.mean())/x.std(ddof=0)\n",
    "    standard_y = (y - y.mean())/y.std(ddof=0)\n",
    "    x_y = x*y\n",
    "    print x_y[1]\n",
    "    return x_y.mean()\n",
    "\n",
    "entries = subway_df['ENTRIESn_hourly']\n",
    "cum_entries = subway_df['ENTRIESn']\n",
    "rain = subway_df['meanprecipi']\n",
    "temp = subway_df['meantempi']\n",
    "\n",
    "print correlation(entries, rain)\n",
    "print correlation(entries, temp)\n",
    "print correlation(rain, temp)\n",
    "\n",
    "print correlation(entries, cum_entries)"
   ]
  },
  {
   "cell_type": "code",
   "execution_count": null,
   "metadata": {
    "collapsed": true
   },
   "outputs": [],
   "source": []
  }
 ],
 "metadata": {
  "kernelspec": {
   "display_name": "Python 2",
   "language": "python",
   "name": "python2"
  },
  "language_info": {
   "codemirror_mode": {
    "name": "ipython",
    "version": 2
   },
   "file_extension": ".py",
   "mimetype": "text/x-python",
   "name": "python",
   "nbconvert_exporter": "python",
   "pygments_lexer": "ipython2",
   "version": "2.7.11"
  }
 },
 "nbformat": 4,
 "nbformat_minor": 0
}
